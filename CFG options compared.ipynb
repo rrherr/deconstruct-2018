{
 "cells": [
  {
   "cell_type": "markdown",
   "metadata": {},
   "source": [
    "# CFG options compared"
   ]
  },
  {
   "cell_type": "markdown",
   "metadata": {},
   "source": [
    "This notebook compares three options to generate text from context-free grammars in Python:\n",
    "- Tracery\n",
    "- NLTK\n",
    "- From scratch\n",
    "\n",
    "Each option is demonstrated with two examples from [Gary Bernhardt's screencasts](https://www.destroyallsoftware.com/screencasts/catalog), \"Computation Explained Briskly, for Programmers.\"\n",
    "\n",
    "- From [Recognizing Simple Languages](https://www.destroyallsoftware.com/screencasts/catalog/recognizing-simple-languages)\n",
    "\n",
    "    ```\n",
    "    r\"\"\"\n",
    "        EXPR = NUM\n",
    "        EXPR = NUM OP EXPR\n",
    "        NUM = '1'\n",
    "        NUM = '2'\n",
    "        NUM = '3'\n",
    "        OP = '+'\n",
    "        OP = '*'\n",
    "    \"\"\"\n",
    "    ```\n",
    "\n",
    "- From [Recognizing Programming Languages](https://www.destroyallsoftware.com/screencasts/catalog/recognizing-programming-languages)\n",
    "\n",
    "    ```\n",
    "    S = ''\n",
    "    S = '(' S ')'\n",
    "    ```"
   ]
  },
  {
   "cell_type": "markdown",
   "metadata": {},
   "source": [
    "# Tracery"
   ]
  },
  {
   "cell_type": "markdown",
   "metadata": {},
   "source": [
    "- Installation: `pip install tracery`\n",
    "- [Examples](https://github.com/aparrish/rwet/blob/master/tracery-and-python.ipynb)"
   ]
  },
  {
   "cell_type": "code",
   "execution_count": 1,
   "metadata": {},
   "outputs": [
    {
     "name": "stdout",
     "output_type": "stream",
     "text": [
      "1\n",
      "2 * 1\n",
      "1\n",
      "3 + 3\n",
      "1\n"
     ]
    }
   ],
   "source": [
    "import tracery\n",
    "\n",
    "rules = {\n",
    "    'EXPR': ['#NUM#', '#NUM# #OP# #EXPR#'], \n",
    "    'NUM':  ['1', '2', '3'], \n",
    "    'OP':   ['+', '*']\n",
    "}\n",
    "\n",
    "grammar = tracery.Grammar(rules)\n",
    "\n",
    "for _ in range(5):\n",
    "    print(grammar.flatten('#EXPR#'))"
   ]
  },
  {
   "cell_type": "code",
   "execution_count": 2,
   "metadata": {},
   "outputs": [
    {
     "name": "stdout",
     "output_type": "stream",
     "text": [
      "(())\n",
      "\n",
      "(())\n",
      "()\n",
      "()\n"
     ]
    }
   ],
   "source": [
    "rules = {\n",
    "    'S': ['', '(#S#)']\n",
    "}\n",
    "\n",
    "grammar = tracery.Grammar(rules)\n",
    "\n",
    "for _ in range(5):\n",
    "    print(grammar.flatten('#S#'))"
   ]
  },
  {
   "cell_type": "markdown",
   "metadata": {},
   "source": [
    "# NLTK"
   ]
  },
  {
   "cell_type": "markdown",
   "metadata": {},
   "source": [
    "- Installation: `pip install nltk`\n",
    "- [Examples](http://www.nltk.org/howto/generate.html)\n",
    "- [*Natural Language Processing with Python*, Chapter 8,](http://www.nltk.org/book/ch08.html) Section 3: Context Free Grammar"
   ]
  },
  {
   "cell_type": "code",
   "execution_count": 3,
   "metadata": {},
   "outputs": [
    {
     "name": "stdout",
     "output_type": "stream",
     "text": [
      "1\n",
      "2\n",
      "3\n",
      "1 + 1\n",
      "1 + 2\n"
     ]
    }
   ],
   "source": [
    "from nltk import CFG\n",
    "from nltk.parse.generate import generate\n",
    "\n",
    "rules = \"\"\"\n",
    "    EXPR -> NUM\n",
    "    EXPR -> NUM OP EXPR\n",
    "    NUM -> '1'\n",
    "    NUM -> '2'\n",
    "    NUM -> '3'\n",
    "    OP -> '+'\n",
    "    OP -> '*'\n",
    "\"\"\"\n",
    "\n",
    "grammar = CFG.fromstring(rules)\n",
    "\n",
    "# First 5, not random\n",
    "for expr in generate(grammar, n=5):\n",
    "    print(' '.join(expr))"
   ]
  },
  {
   "cell_type": "code",
   "execution_count": 4,
   "metadata": {},
   "outputs": [
    {
     "name": "stdout",
     "output_type": "stream",
     "text": [
      "\n",
      "()\n",
      "(())\n",
      "((()))\n",
      "(((())))\n"
     ]
    }
   ],
   "source": [
    "rules = \"\"\"\n",
    "    S -> \n",
    "    S -> '(' S ')'\n",
    "\"\"\"\n",
    "\n",
    "grammar = CFG.fromstring(rules)\n",
    "\n",
    "# First 5, not random\n",
    "for S in generate(grammar, n=5):\n",
    "    print(''.join(S))"
   ]
  },
  {
   "cell_type": "markdown",
   "metadata": {},
   "source": [
    "# From Scratch"
   ]
  },
  {
   "cell_type": "markdown",
   "metadata": {},
   "source": [
    "### With rules as a dictionary\n",
    "- Keys are strings. Each string has one symbol.\n",
    "- Values are lists of one or more strings. Each string has zero or more symbols separated by whitespace."
   ]
  },
  {
   "cell_type": "code",
   "execution_count": 5,
   "metadata": {},
   "outputs": [],
   "source": [
    "rules = {\n",
    "    'EXPR': ['NUM', 'NUM OP EXPR'], \n",
    "    'NUM':  ['1', '2', '3'], \n",
    "    'OP':   ['+', '*']\n",
    "}"
   ]
  },
  {
   "cell_type": "code",
   "execution_count": 6,
   "metadata": {},
   "outputs": [],
   "source": [
    "import random\n",
    "\n",
    "def generate(text, rules):\n",
    "    tokenized = [token for token in text.split(' ') if token]\n",
    "    \n",
    "    transformed = [random.choice(rules[symbol]) if symbol in rules else symbol \n",
    "                   for symbol in tokenized]\n",
    "    \n",
    "    text = ' '.join(transformed)\n",
    "    return text if transformed == tokenized else generate(text, rules)"
   ]
  },
  {
   "cell_type": "code",
   "execution_count": 7,
   "metadata": {},
   "outputs": [
    {
     "name": "stdout",
     "output_type": "stream",
     "text": [
      "1 * 1 + 3 * 2\n",
      "3\n",
      "3 * 1 + 1 + 3 + 3 + 1 + 3 + 2\n",
      "1\n",
      "3 * 3 * 3 + 2 + 1 * 2\n"
     ]
    }
   ],
   "source": [
    "for _ in range(5):\n",
    "    print(generate('EXPR', rules))"
   ]
  },
  {
   "cell_type": "code",
   "execution_count": 8,
   "metadata": {},
   "outputs": [
    {
     "name": "stdout",
     "output_type": "stream",
     "text": [
      "\n",
      "( ( ) )\n",
      "\n",
      "( )\n",
      "( )\n"
     ]
    }
   ],
   "source": [
    "rules = {\n",
    "    'S': ['', '( S )']\n",
    "}\n",
    "\n",
    "for _ in range(5):\n",
    "    print(generate('S', rules))"
   ]
  },
  {
   "cell_type": "markdown",
   "metadata": {},
   "source": [
    "### With rules as a multi-line string\n",
    "- Lines contain whitespace, or rules with two sides separated by `=`\n",
    "- Left sides have one symbol\n",
    "- Right sides have zero or more symbols separated by whitespace"
   ]
  },
  {
   "cell_type": "code",
   "execution_count": 9,
   "metadata": {},
   "outputs": [],
   "source": [
    "from collections import defaultdict\n",
    "\n",
    "def make_rules(raw):\n",
    "    rules = defaultdict(list)\n",
    "    lines = [line for line in raw.split('\\n') if line.strip()]\n",
    "    for line in lines:\n",
    "        left, right = [side.strip() for side in line.split('=')]\n",
    "        rules[left].append(right)\n",
    "    return rules"
   ]
  },
  {
   "cell_type": "code",
   "execution_count": 10,
   "metadata": {},
   "outputs": [
    {
     "name": "stdout",
     "output_type": "stream",
     "text": [
      "1 * 1\n",
      "1\n",
      "2 * 1 + 2\n",
      "3 * 2 * 1\n",
      "3\n"
     ]
    }
   ],
   "source": [
    "rules = make_rules(\"\"\"\n",
    "    \n",
    "    EXPR = NUM\n",
    "    EXPR = NUM OP EXPR\n",
    "    NUM = 1\n",
    "    NUM = 2\n",
    "    NUM = 3\n",
    "    OP = +\n",
    "    OP = *\n",
    "    \n",
    "    \"\"\")\n",
    "\n",
    "for _ in range(5):\n",
    "    print(generate('EXPR', rules))"
   ]
  },
  {
   "cell_type": "code",
   "execution_count": 11,
   "metadata": {},
   "outputs": [
    {
     "name": "stdout",
     "output_type": "stream",
     "text": [
      "( )\n",
      "\n",
      "( )\n",
      "( ( ( ) ) )\n",
      "\n"
     ]
    }
   ],
   "source": [
    "rules = make_rules(\"\"\"\n",
    "    \n",
    "    S = ( S )\n",
    "    S =\n",
    "    \n",
    "    \"\"\")\n",
    "\n",
    "for _ in range(5):\n",
    "    print(generate('S', rules))"
   ]
  }
 ],
 "metadata": {
  "kernelspec": {
   "display_name": "Python 3",
   "language": "python",
   "name": "python3"
  },
  "language_info": {
   "codemirror_mode": {
    "name": "ipython",
    "version": 3
   },
   "file_extension": ".py",
   "mimetype": "text/x-python",
   "name": "python",
   "nbconvert_exporter": "python",
   "pygments_lexer": "ipython3",
   "version": "3.6.3"
  }
 },
 "nbformat": 4,
 "nbformat_minor": 2
}
